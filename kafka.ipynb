{
 "cells": [
  {
   "cell_type": "code",
   "execution_count": 1,
   "id": "1f8c0938-e91c-4567-a3da-54c41d987ba1",
   "metadata": {},
   "outputs": [
    {
     "name": "stderr",
     "output_type": "stream",
     "text": [
      "22/07/25 03:55:14 WARN Utils: Your hostname, vagrant resolves to a loopback address: 127.0.1.1; using 10.0.2.15 instead (on interface eth0)\n",
      "22/07/25 03:55:14 WARN Utils: Set SPARK_LOCAL_IP if you need to bind to another address\n"
     ]
    },
    {
     "name": "stdout",
     "output_type": "stream",
     "text": [
      ":: loading settings :: url = jar:file:/usr/local/miniconda/lib/python3.9/site-packages/pyspark/jars/ivy-2.4.0.jar!/org/apache/ivy/core/settings/ivysettings.xml\n"
     ]
    },
    {
     "name": "stderr",
     "output_type": "stream",
     "text": [
      "Ivy Default Cache set to: /home/vagrant/.ivy2/cache\n",
      "The jars for the packages stored in: /home/vagrant/.ivy2/jars\n",
      "org.apache.spark#spark-sql-kafka-0-10_2.12 added as a dependency\n",
      ":: resolving dependencies :: org.apache.spark#spark-submit-parent-3658d1c4-a067-47ae-9e84-86aa7dfac112;1.0\n",
      "\tconfs: [default]\n",
      "\tfound org.apache.spark#spark-sql-kafka-0-10_2.12;3.1.2 in central\n",
      "\tfound org.apache.spark#spark-token-provider-kafka-0-10_2.12;3.1.2 in central\n",
      "\tfound org.apache.kafka#kafka-clients;2.6.0 in central\n",
      "\tfound com.github.luben#zstd-jni;1.4.8-1 in central\n",
      "\tfound org.lz4#lz4-java;1.7.1 in central\n",
      "\tfound org.xerial.snappy#snappy-java;1.1.8.2 in central\n",
      "\tfound org.slf4j#slf4j-api;1.7.30 in central\n",
      "\tfound org.spark-project.spark#unused;1.0.0 in central\n",
      "\tfound org.apache.commons#commons-pool2;2.6.2 in central\n",
      ":: resolution report :: resolve 267ms :: artifacts dl 4ms\n",
      "\t:: modules in use:\n",
      "\tcom.github.luben#zstd-jni;1.4.8-1 from central in [default]\n",
      "\torg.apache.commons#commons-pool2;2.6.2 from central in [default]\n",
      "\torg.apache.kafka#kafka-clients;2.6.0 from central in [default]\n",
      "\torg.apache.spark#spark-sql-kafka-0-10_2.12;3.1.2 from central in [default]\n",
      "\torg.apache.spark#spark-token-provider-kafka-0-10_2.12;3.1.2 from central in [default]\n",
      "\torg.lz4#lz4-java;1.7.1 from central in [default]\n",
      "\torg.slf4j#slf4j-api;1.7.30 from central in [default]\n",
      "\torg.spark-project.spark#unused;1.0.0 from central in [default]\n",
      "\torg.xerial.snappy#snappy-java;1.1.8.2 from central in [default]\n",
      "\t---------------------------------------------------------------------\n",
      "\t|                  |            modules            ||   artifacts   |\n",
      "\t|       conf       | number| search|dwnlded|evicted|| number|dwnlded|\n",
      "\t---------------------------------------------------------------------\n",
      "\t|      default     |   9   |   0   |   0   |   0   ||   9   |   0   |\n",
      "\t---------------------------------------------------------------------\n",
      ":: retrieving :: org.apache.spark#spark-submit-parent-3658d1c4-a067-47ae-9e84-86aa7dfac112\n",
      "\tconfs: [default]\n",
      "\t0 artifacts copied, 9 already retrieved (0kB/7ms)\n",
      "22/07/25 03:55:15 WARN NativeCodeLoader: Unable to load native-hadoop library for your platform... using builtin-java classes where applicable\n",
      "Using Spark's default log4j profile: org/apache/spark/log4j-defaults.properties\n",
      "Setting default log level to \"WARN\".\n",
      "To adjust logging level use sc.setLogLevel(newLevel). For SparkR, use setLogLevel(newLevel).\n"
     ]
    }
   ],
   "source": [
    "import findspark\n",
    "findspark.init()\n",
    "from pyspark.sql import SparkSession\n",
    "from pyspark import SparkContext\n",
    "from pyspark import SparkConf\n",
    "spark = SparkSession. \\\n",
    "builder. \\\n",
    "appName('UNIR'). \\\n",
    "config(\"spark.executor.memory\", \"1g\"). \\\n",
    "config(\"spark.driver.memory\", \"2g\"). \\\n",
    "config('spark.dirver.maxResultSize', '1g'). \\\n",
    "config('spark.jars.packages','org.apache.spark:spark-sql-kafka-0-10_2.12:3.1.2'). \\\n",
    "getOrCreate()"
   ]
  },
  {
   "cell_type": "code",
   "execution_count": null,
   "id": "285d1b39-d2c0-462a-a886-547fbc79535d",
   "metadata": {},
   "outputs": [],
   "source": []
  },
  {
   "cell_type": "code",
   "execution_count": 27,
   "id": "687f4f98-34b2-4d9c-a90f-1859ea9b3e5d",
   "metadata": {},
   "outputs": [],
   "source": [
    "def promediarValores(df):\n",
    "   df.createOrReplaceTempView(\"resultadoMedio\")\n",
    "   promedios = spark.sql(\"\"\"SELECT tipo, AVG(total) AS promedio FROM resultadoMedio GROUP BY tipo ORDER BY promedio DESC\"\"\")\n",
    "   return promedios"
   ]
  },
  {
   "cell_type": "code",
   "execution_count": 28,
   "id": "2c5ddf93-a9ac-4859-8e50-a65bd76ce5da",
   "metadata": {},
   "outputs": [],
   "source": [
    "tiposStreamingDF = (spark\n",
    "  .readStream\n",
    "  .format(\"kafka\")\n",
    "  .option(\"kafka.bootstrap.servers\", \"127.0.0.1:9092\")\n",
    "  .option(\"subscribe\", \"promedios\")\n",
    "  .load())"
   ]
  },
  {
   "cell_type": "code",
   "execution_count": 29,
   "id": "c47f96a7-d759-4e18-8474-d2c9d913de52",
   "metadata": {},
   "outputs": [],
   "source": [
    "types = tiposStreamingDF.dtypes"
   ]
  },
  {
   "cell_type": "code",
   "execution_count": 32,
   "id": "cb463527-4777-4a38-9c2b-f1225c7b2ee2",
   "metadata": {},
   "outputs": [
    {
     "data": {
      "text/plain": [
       "[('key', 'binary'),\n",
       " ('value', 'binary'),\n",
       " ('topic', 'string'),\n",
       " ('partition', 'int'),\n",
       " ('offset', 'bigint'),\n",
       " ('timestamp', 'timestamp'),\n",
       " ('timestampType', 'int')]"
      ]
     },
     "execution_count": 32,
     "metadata": {},
     "output_type": "execute_result"
    }
   ],
   "source": [
    "types"
   ]
  },
  {
   "cell_type": "code",
   "execution_count": 33,
   "id": "cc50b95b-6842-4e05-8570-a8bda9eaa9f9",
   "metadata": {},
   "outputs": [],
   "source": [
    "from pyspark.sql.types import StructType, StructField, StringType, DoubleType\n",
    "import pyspark.sql.functions as F\n",
    "\n",
    "esquema = StructType([\\\n",
    "  StructField(\"tipo\", StringType()),\\\n",
    "  StructField(\"total\", DoubleType())\\\n",
    "])\n",
    "\n",
    "parsedDF = tiposStreamingDF\\\n",
    "     .select(\"value\")\\\n",
    "     .withColumn(\"value\", F.col(\"value\").cast(StringType()))\\\n",
    "     .withColumn(\"parejas\", F.from_json(F.col(\"value\"), esquema))\\\n",
    "     .withColumn(\"tipo\", F.col(\"parejas.tipo\"))\\\n",
    "     .withColumn(\"total\", F.col(\"parejas.total\"))\n"
   ]
  },
  {
   "cell_type": "code",
   "execution_count": 35,
   "id": "ca45bf57-6c6f-453f-8909-b2a97f3bbaf6",
   "metadata": {},
   "outputs": [
    {
     "name": "stderr",
     "output_type": "stream",
     "text": [
      "22/07/25 04:40:55 WARN StreamingQueryManager: Temporary checkpoint location created which is deleted normally when the query didn't fail: /tmp/temporary-2e97f4be-4c95-4849-91d5-8659b42509e3. If it's required to delete it under any circumstances, please set spark.sql.streaming.forceDeleteTempCheckpointLocation to true. Important to know deleting temp checkpoint folder is best effort.\n",
      "                                                                                \r"
     ]
    }
   ],
   "source": [
    "promediosStreamingDF = promediarValores(parsedDF)\n",
    "\n",
    "salida = promediosStreamingDF\\\n",
    "                    .writeStream\\\n",
    "                    .queryName(\"AgregacionPromedios\")\\\n",
    "                    .outputMode(\"complete\")\\\n",
    "                    .format(\"memory\")\\\n",
    "                    .start()"
   ]
  },
  {
   "cell_type": "code",
   "execution_count": 36,
   "id": "f252b2c6-72de-4c5f-b7ed-cc5308e2b19a",
   "metadata": {},
   "outputs": [],
   "source": [
    "promediosDF = spark.sql(\"select * from AgregacionPromedios\")"
   ]
  },
  {
   "cell_type": "code",
   "execution_count": 51,
   "id": "cf1dfb75-bea5-4102-985f-530f6499b5be",
   "metadata": {},
   "outputs": [
    {
     "name": "stdout",
     "output_type": "stream",
     "text": [
      "+-------+--------+\n",
      "|   tipo|promedio|\n",
      "+-------+--------+\n",
      "|ingreso|    6.75|\n",
      "|  gasto|     2.5|\n",
      "+-------+--------+\n",
      "\n"
     ]
    }
   ],
   "source": [
    "promediosDF.show()"
   ]
  },
  {
   "cell_type": "code",
   "execution_count": 52,
   "id": "a4ad0e09-509f-43f8-bf4b-a4a010c3357d",
   "metadata": {},
   "outputs": [
    {
     "name": "stdout",
     "output_type": "stream",
     "text": [
      "+-------+--------+\n",
      "|   tipo|promedio|\n",
      "+-------+--------+\n",
      "|ingreso|    6.75|\n",
      "|  gasto|     2.5|\n",
      "+-------+--------+\n",
      "\n"
     ]
    }
   ],
   "source": [
    "promediosDF.show()"
   ]
  },
  {
   "cell_type": "code",
   "execution_count": null,
   "id": "09d8fc46-15d0-425c-973e-4fb1cb1e5759",
   "metadata": {},
   "outputs": [],
   "source": [
    "{\"tipo\": \"gasto\", \"total\": 3.5}\n",
    "{\"tipo\": \"ingreso\", \"total\": 7.0}\n",
    "{\"tipo\": \"ingreso\", \"total\": 6.5}\n",
    "{\"tipo\": \"gasto\", \"total\": 1.5}\n",
    "{\"tipo\": \"gasto\", \"total\": 2.5}"
   ]
  },
  {
   "cell_type": "code",
   "execution_count": null,
   "id": "843cf394-5fea-425f-94b0-3cb76914a690",
   "metadata": {},
   "outputs": [],
   "source": []
  },
  {
   "cell_type": "code",
   "execution_count": null,
   "id": "6fffadec-029b-4d27-af20-28bbf5e07300",
   "metadata": {},
   "outputs": [],
   "source": []
  }
 ],
 "metadata": {
  "kernelspec": {
   "display_name": "Python 3 (ipykernel)",
   "language": "python",
   "name": "python3"
  },
  "language_info": {
   "codemirror_mode": {
    "name": "ipython",
    "version": 3
   },
   "file_extension": ".py",
   "mimetype": "text/x-python",
   "name": "python",
   "nbconvert_exporter": "python",
   "pygments_lexer": "ipython3",
   "version": "3.9.12"
  }
 },
 "nbformat": 4,
 "nbformat_minor": 5
}
